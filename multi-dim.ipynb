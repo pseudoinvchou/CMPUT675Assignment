{
 "cells": [
  {
   "cell_type": "code",
   "execution_count": 1,
   "id": "2f98c142",
   "metadata": {},
   "outputs": [],
   "source": [
    "import numpy as np\n",
    "import math"
   ]
  },
  {
   "cell_type": "code",
   "execution_count": 90,
   "id": "7a023d18",
   "metadata": {},
   "outputs": [],
   "source": [
    "value_upper=1e-2\n",
    "dim=5\n",
    "pmin = np.random.randint(1,10,dim)\n",
    "pmax = pmin + np.random.randint(1,10,dim)\n",
    "B=1"
   ]
  },
  {
   "cell_type": "code",
   "execution_count": 91,
   "id": "ca7e1600",
   "metadata": {},
   "outputs": [
    {
     "data": {
      "text/plain": [
       "(array([9, 7, 5, 1, 8]), array([10, 13, 13,  5, 15]))"
      ]
     },
     "execution_count": 91,
     "metadata": {},
     "output_type": "execute_result"
    }
   ],
   "source": [
    "pmin,pmax"
   ]
  },
  {
   "cell_type": "code",
   "execution_count": 92,
   "id": "08b00f19",
   "metadata": {},
   "outputs": [],
   "source": [
    "def psi(z, p_min, p_max):\n",
    "    psi = ((p_max * np.exp(1) / p_min) ** z) * (p_min / np.exp(1))\n",
    "    return psi.reshape(-1)"
   ]
  },
  {
   "cell_type": "code",
   "execution_count": 104,
   "id": "a42a9368",
   "metadata": {},
   "outputs": [],
   "source": [
    "def generate_multi_dimensional(p_min,p_max,value_upper_bound=1e-3,B=1,n=5):\n",
    "    max_len = round(B/value_upper_bound*2* n * 1.25 ) # decide the maximum length of this data flow\n",
    "    value = np.array([])\n",
    "    weight = np.zeros([n,max_len])\n",
    "    for i in range(max_len):\n",
    "        val = np.random.uniform(0,value_upper_bound)\n",
    "        value = np.append(value, [val])\n",
    "        weight[:,i] = np.random.uniform(val/pmax, val/pmin)\n",
    "    return (weight, value)"
   ]
  },
  {
   "cell_type": "code",
   "execution_count": 105,
   "id": "57493e7f",
   "metadata": {},
   "outputs": [],
   "source": [
    "(weight, value) = generate_multi_dimensional(pmin,pmax,value_upper,B,dim)"
   ]
  },
  {
   "cell_type": "code",
   "execution_count": 106,
   "id": "5bfdb4fd",
   "metadata": {},
   "outputs": [
    {
     "data": {
      "text/plain": [
       "array([ 9.48314332,  9.34750926,  7.72951405,  2.01646198, 10.74383753])"
      ]
     },
     "execution_count": 106,
     "metadata": {},
     "output_type": "execute_result"
    }
   ],
   "source": [
    "np.mean(1/(weight/value.reshape(1,-1)), axis=1)"
   ]
  },
  {
   "cell_type": "code",
   "execution_count": 107,
   "id": "70ea20a8",
   "metadata": {},
   "outputs": [],
   "source": [
    "def multi_online_knapsack(weights, values, B,dim):\n",
    "    '''\n",
    "    para: weights [dim,len]\n",
    "    para: values [len]\n",
    "    return: \n",
    "    condcucts multi-dimensional online knapsack problem\n",
    "    '''\n",
    "    z = np.zeros(dim) # the current fraction\n",
    "    ps = 1/(weights/values.reshape(1,-1))\n",
    "    p_min = np.min(ps, axis=1)\n",
    "    p_max = np.max(ps, axis=1)# pmin and pmax of this flow\n",
    "    cur_val = np.zeros(dim)# a list, each entry i representing the current accumulated value of the ith bin\n",
    "    cur_weight = np.zeros(dim)# a list, each entry i representing the current occupied weight of the ith bin\n",
    "    B = B*np.ones(dim)\n",
    "    for j in range(weights.shape[1]):\n",
    "        non_overfill = (cur_weight+weights[:,j])<=B\n",
    "        # if at least one not overfilled\n",
    "        if np.sum(non_overfill)>0:\n",
    "            psi_z = psi(z, p_min, p_max)\n",
    "            # rule out those overfilled\n",
    "            dst = (values[j]/(weights[:,j])).reshape(-1) * (np.asarray(non_overfill, dtype=int).reshape(-1)) # density\n",
    "            satis_cond = np.asarray(dst > psi_z, dtype=int)\n",
    "            argmax = np.argmax(dst * satis_cond)# find out the max density index\n",
    "            # update\n",
    "            cur_weight[argmax] += weights[argmax,j]\n",
    "            z[argmax] = z[argmax] + (weights[argmax,j] / B[argmax])\n",
    "            cur_val[argmax] += values[j]\n",
    "    return (cur_val,p_min,p_max, cur_weight)"
   ]
  },
  {
   "cell_type": "code",
   "execution_count": 108,
   "id": "191df5ea",
   "metadata": {},
   "outputs": [
    {
     "data": {
      "text/plain": [
       "(array([0.95953178, 1.28768872, 0.78841597, 0.        , 3.15298266]),\n",
       " array([9.0011787 , 7.00089215, 5.00394668, 1.0000871 , 8.00334645]),\n",
       " array([ 9.99906379, 12.99322847, 12.98855342,  4.99689682, 14.99891331]),\n",
       " array([0.10031604, 0.1129633 , 0.07025705, 0.        , 0.26246941]))"
      ]
     },
     "execution_count": 108,
     "metadata": {},
     "output_type": "execute_result"
    }
   ],
   "source": [
    "multi_online_knapsack(weight, value, 1, dim)"
   ]
  },
  {
   "cell_type": "code",
   "execution_count": 45,
   "id": "897041e5",
   "metadata": {},
   "outputs": [
    {
     "data": {
      "text/plain": [
       "20"
      ]
     },
     "execution_count": 45,
     "metadata": {},
     "output_type": "execute_result"
    }
   ],
   "source": [
    "weight.shape[1]"
   ]
  },
  {
   "cell_type": "code",
   "execution_count": null,
   "id": "06508387",
   "metadata": {},
   "outputs": [],
   "source": []
  }
 ],
 "metadata": {
  "kernelspec": {
   "display_name": "Python 3",
   "language": "python",
   "name": "python3"
  },
  "language_info": {
   "codemirror_mode": {
    "name": "ipython",
    "version": 3
   },
   "file_extension": ".py",
   "mimetype": "text/x-python",
   "name": "python",
   "nbconvert_exporter": "python",
   "pygments_lexer": "ipython3",
   "version": "3.8.8"
  }
 },
 "nbformat": 4,
 "nbformat_minor": 5
}
