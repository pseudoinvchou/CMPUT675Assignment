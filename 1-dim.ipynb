{
 "cells": [
  {
   "cell_type": "code",
   "execution_count": 85,
   "id": "393ef5b7",
   "metadata": {},
   "outputs": [],
   "source": [
    "import numpy as np\n",
    "import math"
   ]
  },
  {
   "cell_type": "code",
   "execution_count": 262,
   "id": "1412303d",
   "metadata": {},
   "outputs": [],
   "source": [
    "max_weight = 5\n",
    "min_weight=1\n",
    "pmin = 1\n",
    "pmax = 10\n",
    "B=10000"
   ]
  },
  {
   "cell_type": "code",
   "execution_count": 246,
   "id": "ad20ffba",
   "metadata": {},
   "outputs": [],
   "source": [
    "def generate_sequence(first_para,second_para, pmin, pmax,B, inf=True):\n",
    "    if inf:\n",
    "        max_weight = first_para\n",
    "        min_weigiht = second_para\n",
    "        max_len = round(B/((max_weight-min_weight)/2) * 1.25)\n",
    "    else:\n",
    "        mean = first_para\n",
    "        var = second_para\n",
    "        max_len = round(mean * 1.25)\n",
    "    weights = []\n",
    "    values = []\n",
    "    for i in range(max_len):\n",
    "        if inf:\n",
    "            w = round(np.random.uniform(min_weight,max_weight))\n",
    "        else:\n",
    "            w = round(np.abs(np.random.normal(mean, var)))\n",
    "        weights.append(w)\n",
    "        values.append(round(np.random.uniform(w*pmin, w*pmax)))\n",
    "    return (weights, values)"
   ]
  },
  {
   "cell_type": "code",
   "execution_count": 247,
   "id": "af874d04",
   "metadata": {},
   "outputs": [],
   "source": [
    "(weights, values) = generate_sequence(max_weight,min_weight, pmin, pmax,B)\n",
    "# (weights, values) = generate_sequence(500, 100, pmin, pmax, B, inf=False)"
   ]
  },
  {
   "cell_type": "code",
   "execution_count": 248,
   "id": "9cb06bf8",
   "metadata": {},
   "outputs": [
    {
     "data": {
      "text/plain": [
       "102531"
      ]
     },
     "execution_count": 248,
     "metadata": {},
     "output_type": "execute_result"
    }
   ],
   "source": [
    "sum(values)"
   ]
  },
  {
   "cell_type": "code",
   "execution_count": 249,
   "id": "611db7b7",
   "metadata": {},
   "outputs": [],
   "source": [
    "def psi(z, p_min, p_max):\n",
    "    psi = ((p_max * np.exp(1) / p_min) ** z) * (p_min / np.exp(1))\n",
    "    return psi"
   ]
  },
  {
   "cell_type": "code",
   "execution_count": 254,
   "id": "55a17134",
   "metadata": {},
   "outputs": [],
   "source": [
    "def online_knap_sack(weights, values, B, min_thresh=False):\n",
    "    z = 0 # current fraction filled\n",
    "    ps = values/weights \n",
    "    p_min = np.min(ps)\n",
    "    p_max = np.max(ps) # pmin and pmax\n",
    "    cur_val = 0 # current value accumulated\n",
    "    cur_weight = 0 # current weight occupied\n",
    "    for j in range(len(weights)):\n",
    "        # only if not overfilled\n",
    "        if cur_weight + weights[j]<=B:\n",
    "            psi_z = psi(z, p_min, p_max)\n",
    "            dst = values[j]/weights[j]\n",
    "            add_cond = weights[j]>=1500 if min_thresh else True # some exp on non-infinitesiaml setting\n",
    "            if (dst >= psi_z and add_cond):\n",
    "                    cur_weight += weights[j]\n",
    "                    z = z + (weights[j]/B)\n",
    "                    cur_val += values[j]\n",
    "    return (cur_val,p_min,p_max)"
   ]
  },
  {
   "cell_type": "code",
   "execution_count": 255,
   "id": "a7c69911",
   "metadata": {},
   "outputs": [],
   "source": [
    "def knapSack(W, wt, val): \n",
    "    n=len(val)\n",
    "    table = [[0 for x in range(W + 1)] for x in range(n + 1)] \n",
    " \n",
    "    for i in range(n + 1): \n",
    "        for j in range(W + 1): \n",
    "            if i == 0 or j == 0: \n",
    "                table[i][j] = 0\n",
    "            elif wt[i-1] <= j: \n",
    "                table[i][j] = max(val[i-1]  + table[i-1][j-wt[i-1]],  table[i-1][j]) \n",
    "            else: \n",
    "                table[i][j] = table[i-1][j] \n",
    "   \n",
    "    return table[n][W] "
   ]
  },
  {
   "cell_type": "code",
   "execution_count": 256,
   "id": "0dbf276d",
   "metadata": {},
   "outputs": [],
   "source": [
    "online_res = online_knap_sack(np.array(weights), np.array(values), B)"
   ]
  },
  {
   "cell_type": "code",
   "execution_count": 257,
   "id": "93bf9655",
   "metadata": {},
   "outputs": [],
   "source": [
    "last = online_res[-1]\n",
    "offline_res = knapSack(B, weights[:last+1], values[:last+1])"
   ]
  },
  {
   "cell_type": "code",
   "execution_count": 258,
   "id": "0cddf68f",
   "metadata": {},
   "outputs": [
    {
     "data": {
      "text/plain": [
       "75586"
      ]
     },
     "execution_count": 258,
     "metadata": {},
     "output_type": "execute_result"
    }
   ],
   "source": [
    "offline_res"
   ]
  },
  {
   "cell_type": "code",
   "execution_count": 259,
   "id": "7bea01b7",
   "metadata": {},
   "outputs": [
    {
     "data": {
      "text/plain": [
       "1.1695911862098847"
      ]
     },
     "execution_count": 259,
     "metadata": {},
     "output_type": "execute_result"
    }
   ],
   "source": [
    "offline_res/online_res[0]"
   ]
  },
  {
   "cell_type": "code",
   "execution_count": 265,
   "id": "be42ceb1",
   "metadata": {},
   "outputs": [
    {
     "name": "stdout",
     "output_type": "stream",
     "text": [
      "1.1803878300326192\n"
     ]
    }
   ],
   "source": [
    "# last = online_res[-1]\n",
    "# offline_res = knapSack(B, weights[:last+1], values[:last+1])\n",
    "total_online = 0\n",
    "total_offline = 0\n",
    "for i in range(10):\n",
    "    (weights, values) = generate_sequence(max_weight,min_weight, pmin, pmax,B)\n",
    "    online_res = online_knap_sack(np.array(weights), np.array(values), B, min_thresh=False)\n",
    "    total_online += online_res[0]\n",
    "    last = online_res[-1]\n",
    "    offline_res = knapSack(B, weights, values)\n",
    "    total_offline += offline_res\n",
    "    \n",
    "total_min /= 10\n",
    "total_org /= 10\n",
    "print(total_offline/total_online)"
   ]
  },
  {
   "cell_type": "code",
   "execution_count": 52,
   "id": "0fc303e5",
   "metadata": {},
   "outputs": [
    {
     "data": {
      "text/plain": [
       "3.291368325474241"
      ]
     },
     "execution_count": 52,
     "metadata": {},
     "output_type": "execute_result"
    }
   ],
   "source": [
    "1+np.log(online_res[2]/online_res[1])"
   ]
  }
 ],
 "metadata": {
  "kernelspec": {
   "display_name": "Python 3",
   "language": "python",
   "name": "python3"
  },
  "language_info": {
   "codemirror_mode": {
    "name": "ipython",
    "version": 3
   },
   "file_extension": ".py",
   "mimetype": "text/x-python",
   "name": "python",
   "nbconvert_exporter": "python",
   "pygments_lexer": "ipython3",
   "version": "3.8.8"
  }
 },
 "nbformat": 4,
 "nbformat_minor": 5
}
